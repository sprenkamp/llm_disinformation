{
 "cells": [
  {
   "cell_type": "code",
   "execution_count": 1,
   "metadata": {},
   "outputs": [
    {
     "name": "stdout",
     "output_type": "stream",
     "text": [
      "Collecting politifact\n",
      "  Downloading politifact-0.1.tar.gz (2.3 kB)\n",
      "  Preparing metadata (setup.py) ... \u001b[?25ldone\n",
      "\u001b[?25hBuilding wheels for collected packages: politifact\n",
      "  Building wheel for politifact (setup.py) ... \u001b[?25ldone\n",
      "\u001b[?25h  Created wheel for politifact: filename=politifact-0.1-py3-none-any.whl size=3419 sha256=c1f27eb419ca19b7397c32aab561ef97f92040413462ed90814c6e0e192aef8e\n",
      "  Stored in directory: /Users/kiliansprenkamp/Library/Caches/pip/wheels/50/a1/d7/7e1006255a7d9e23e0161fe78c58d40df75eade861c1bc9abd\n",
      "Successfully built politifact\n",
      "Installing collected packages: politifact\n",
      "Successfully installed politifact-0.1\n",
      "Note: you may need to restart the kernel to use updated packages.\n"
     ]
    }
   ],
   "source": [
    "pip install politifact"
   ]
  },
  {
   "cell_type": "code",
   "execution_count": 10,
   "metadata": {},
   "outputs": [],
   "source": [
    "from politifact import Politifact\n",
    "\n",
    "p = Politifact()\n",
    "obama_related = p.statements()\n",
    "\n",
    "# for statement in obama_related:\n",
    "#   print(statement.ruling)\n",
    "\n",
    "# OUTPUT:\n",
    "# > True\n",
    "# > Pants On Fire!\n",
    "# > Mostly True\n",
    "# > ..."
   ]
  },
  {
   "cell_type": "code",
   "execution_count": 15,
   "metadata": {},
   "outputs": [
    {
     "ename": "TypeError",
     "evalue": "'StatementsEndpoint' object is not iterable",
     "output_type": "error",
     "traceback": [
      "\u001b[0;31m---------------------------------------------------------------------------\u001b[0m",
      "\u001b[0;31mTypeError\u001b[0m                                 Traceback (most recent call last)",
      "\u001b[1;32m/Users/kiliansprenkamp/Desktop/code/llm_disinformation/src/politifactAPI/test.ipynb Cell 3\u001b[0m line \u001b[0;36m1\n\u001b[0;32m----> <a href='vscode-notebook-cell:/Users/kiliansprenkamp/Desktop/code/llm_disinformation/src/politifactAPI/test.ipynb#W4sZmlsZQ%3D%3D?line=0'>1</a>\u001b[0m \u001b[39mfor\u001b[39;00m statement \u001b[39min\u001b[39;00m \u001b[39mlist\u001b[39;49m(obama_related):\n\u001b[1;32m      <a href='vscode-notebook-cell:/Users/kiliansprenkamp/Desktop/code/llm_disinformation/src/politifactAPI/test.ipynb#W4sZmlsZQ%3D%3D?line=1'>2</a>\u001b[0m     \u001b[39mprint\u001b[39m(statement\u001b[39m.\u001b[39mruling, statement\u001b[39m.\u001b[39mstatement)\n",
      "\u001b[0;31mTypeError\u001b[0m: 'StatementsEndpoint' object is not iterable"
     ]
    }
   ],
   "source": [
    "for statement in list(obama_related):\n",
    "    print(statement.ruling, statement.statement)\n"
   ]
  },
  {
   "cell_type": "code",
   "execution_count": 16,
   "metadata": {},
   "outputs": [
    {
     "ename": "TypeError",
     "evalue": "'StatementsEndpoint' object is not iterable",
     "output_type": "error",
     "traceback": [
      "\u001b[0;31m---------------------------------------------------------------------------\u001b[0m",
      "\u001b[0;31mTypeError\u001b[0m                                 Traceback (most recent call last)",
      "\u001b[1;32m/Users/kiliansprenkamp/Desktop/code/llm_disinformation/src/politifactAPI/test.ipynb Cell 4\u001b[0m line \u001b[0;36m1\n\u001b[0;32m----> <a href='vscode-notebook-cell:/Users/kiliansprenkamp/Desktop/code/llm_disinformation/src/politifactAPI/test.ipynb#W5sZmlsZQ%3D%3D?line=0'>1</a>\u001b[0m \u001b[39mlist\u001b[39;49m(obama_related)\n",
      "\u001b[0;31mTypeError\u001b[0m: 'StatementsEndpoint' object is not iterable"
     ]
    }
   ],
   "source": [
    "list(obama_related)"
   ]
  },
  {
   "cell_type": "code",
   "execution_count": 7,
   "metadata": {},
   "outputs": [
    {
     "name": "stdout",
     "output_type": "stream",
     "text": [
      "Collecting marshmallow\n",
      "  Downloading marshmallow-3.20.1-py3-none-any.whl.metadata (7.8 kB)\n",
      "Requirement already satisfied: packaging>=17.0 in /Users/kiliansprenkamp/miniconda3/envs/llm_disinformation/lib/python3.12/site-packages (from marshmallow) (23.2)\n",
      "Downloading marshmallow-3.20.1-py3-none-any.whl (49 kB)\n",
      "\u001b[2K   \u001b[90m━━━━━━━━━━━━━━━━━━━━━━━━━━━━━━━━━━━━━━━━\u001b[0m \u001b[32m49.4/49.4 kB\u001b[0m \u001b[31m2.1 MB/s\u001b[0m eta \u001b[36m0:00:00\u001b[0m\n",
      "\u001b[?25hInstalling collected packages: marshmallow\n",
      "Successfully installed marshmallow-3.20.1\n",
      "Note: you may need to restart the kernel to use updated packages.\n"
     ]
    }
   ],
   "source": [
    "pip install marshmallow"
   ]
  },
  {
   "cell_type": "code",
   "execution_count": null,
   "metadata": {},
   "outputs": [],
   "source": []
  }
 ],
 "metadata": {
  "kernelspec": {
   "display_name": "llm_disinformation",
   "language": "python",
   "name": "python3"
  },
  "language_info": {
   "codemirror_mode": {
    "name": "ipython",
    "version": 3
   },
   "file_extension": ".py",
   "mimetype": "text/x-python",
   "name": "python",
   "nbconvert_exporter": "python",
   "pygments_lexer": "ipython3",
   "version": "3.12.0"
  }
 },
 "nbformat": 4,
 "nbformat_minor": 2
}
